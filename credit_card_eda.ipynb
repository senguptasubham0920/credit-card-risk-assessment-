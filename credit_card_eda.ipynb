{
  "nbformat": 4,
  "nbformat_minor": 0,
  "metadata": {
    "colab": {
      "name": "credit_card.ipynb",
      "provenance": [],
      "collapsed_sections": []
    },
    "kernelspec": {
      "name": "python3",
      "display_name": "Python 3"
    },
    "language_info": {
      "name": "python"
    }
  },
  "cells": [
    {
      "cell_type": "markdown",
      "source": [
        "# Exploratory Data Analysis- Credit Card Payment Fraud \n",
        "The dataset contans infomation regarding the general description of the customers and their following responses whether they have defaulted their credit card. The objective is to use this dataset to build a model that predicts whether a customer will default his/her payment.\n",
        "\n",
        "In this notebook we have performed EDA. The dataset contains 24 input features and one target variable 'default payment'. The primary objective of EDA is to understand \n",
        "\n",
        "*   which features will be help in creating a model.(having associtions with target variables) \n",
        "*   Feature reduction - there are 24 input features. We need to reduce this, and utilize only those features that will help in prediction.\n",
        "\n"
      ],
      "metadata": {
        "id": "kyCNqD7GT_cM"
      }
    },
    {
      "cell_type": "code",
      "execution_count": null,
      "metadata": {
        "colab": {
          "base_uri": "https://localhost:8080/"
        },
        "id": "BTmFHy5adD3V",
        "outputId": "533fb133-7eb8-48f4-da87-09c5b90e9e11"
      },
      "outputs": [
        {
          "output_type": "stream",
          "name": "stderr",
          "text": [
            "/usr/local/lib/python3.7/dist-packages/statsmodels/tools/_testing.py:19: FutureWarning: pandas.util.testing is deprecated. Use the functions in the public API at pandas.testing instead.\n",
            "  import pandas.util.testing as tm\n"
          ]
        }
      ],
      "source": [
        "#importing libraries\n",
        "import numpy as np \n",
        "import pandas as pd\n",
        "import matplotlib.pyplot as plt\n",
        "import seaborn as sns \n",
        "\n",
        "from scipy.stats import chi2_contingency\n",
        "from statsmodels.multivariate.manova import MANOVA\n",
        "from sklearn.preprocessing import StandardScaler\n",
        "from sklearn.decomposition import PCA\n",
        "  "
      ]
    },
    {
      "cell_type": "code",
      "source": [
        "#importing the dataset\n",
        "df = pd.read_csv('creditrisk.csv')"
      ],
      "metadata": {
        "id": "_tzd2VQkdU5l"
      },
      "execution_count": null,
      "outputs": []
    },
    {
      "cell_type": "code",
      "source": [
        "df.head()"
      ],
      "metadata": {
        "colab": {
          "base_uri": "https://localhost:8080/",
          "height": 244
        },
        "id": "vZSxHvCedbG3",
        "outputId": "26c4636c-f1d4-447b-da04-defa95e9144e"
      },
      "execution_count": null,
      "outputs": [
        {
          "output_type": "execute_result",
          "data": {
            "text/html": [
              "<div>\n",
              "<style scoped>\n",
              "    .dataframe tbody tr th:only-of-type {\n",
              "        vertical-align: middle;\n",
              "    }\n",
              "\n",
              "    .dataframe tbody tr th {\n",
              "        vertical-align: top;\n",
              "    }\n",
              "\n",
              "    .dataframe thead th {\n",
              "        text-align: right;\n",
              "    }\n",
              "</style>\n",
              "<table border=\"1\" class=\"dataframe\">\n",
              "  <thead>\n",
              "    <tr style=\"text-align: right;\">\n",
              "      <th></th>\n",
              "      <th>ID</th>\n",
              "      <th>LIMIT_BAL</th>\n",
              "      <th>SEX</th>\n",
              "      <th>EDUCATION</th>\n",
              "      <th>MARRIAGE</th>\n",
              "      <th>AGE</th>\n",
              "      <th>PAY_0</th>\n",
              "      <th>PAY_2</th>\n",
              "      <th>PAY_3</th>\n",
              "      <th>PAY_4</th>\n",
              "      <th>PAY_5</th>\n",
              "      <th>PAY_6</th>\n",
              "      <th>BILL_AMT1</th>\n",
              "      <th>BILL_AMT2</th>\n",
              "      <th>BILL_AMT3</th>\n",
              "      <th>BILL_AMT4</th>\n",
              "      <th>BILL_AMT5</th>\n",
              "      <th>BILL_AMT6</th>\n",
              "      <th>PAY_AMT1</th>\n",
              "      <th>PAY_AMT2</th>\n",
              "      <th>PAY_AMT3</th>\n",
              "      <th>PAY_AMT4</th>\n",
              "      <th>PAY_AMT5</th>\n",
              "      <th>PAY_AMT6</th>\n",
              "      <th>default payment</th>\n",
              "    </tr>\n",
              "  </thead>\n",
              "  <tbody>\n",
              "    <tr>\n",
              "      <th>0</th>\n",
              "      <td>1</td>\n",
              "      <td>20000</td>\n",
              "      <td>2</td>\n",
              "      <td>2</td>\n",
              "      <td>1</td>\n",
              "      <td>24</td>\n",
              "      <td>2</td>\n",
              "      <td>2</td>\n",
              "      <td>-1</td>\n",
              "      <td>-1</td>\n",
              "      <td>-2</td>\n",
              "      <td>-2</td>\n",
              "      <td>3913</td>\n",
              "      <td>3102</td>\n",
              "      <td>689</td>\n",
              "      <td>0</td>\n",
              "      <td>0</td>\n",
              "      <td>0</td>\n",
              "      <td>0</td>\n",
              "      <td>689</td>\n",
              "      <td>0</td>\n",
              "      <td>0</td>\n",
              "      <td>0</td>\n",
              "      <td>0</td>\n",
              "      <td>1</td>\n",
              "    </tr>\n",
              "    <tr>\n",
              "      <th>1</th>\n",
              "      <td>2</td>\n",
              "      <td>120000</td>\n",
              "      <td>2</td>\n",
              "      <td>2</td>\n",
              "      <td>2</td>\n",
              "      <td>26</td>\n",
              "      <td>-1</td>\n",
              "      <td>2</td>\n",
              "      <td>0</td>\n",
              "      <td>0</td>\n",
              "      <td>0</td>\n",
              "      <td>2</td>\n",
              "      <td>2682</td>\n",
              "      <td>1725</td>\n",
              "      <td>2682</td>\n",
              "      <td>3272</td>\n",
              "      <td>3455</td>\n",
              "      <td>3261</td>\n",
              "      <td>0</td>\n",
              "      <td>1000</td>\n",
              "      <td>1000</td>\n",
              "      <td>1000</td>\n",
              "      <td>0</td>\n",
              "      <td>2000</td>\n",
              "      <td>1</td>\n",
              "    </tr>\n",
              "    <tr>\n",
              "      <th>2</th>\n",
              "      <td>3</td>\n",
              "      <td>90000</td>\n",
              "      <td>2</td>\n",
              "      <td>2</td>\n",
              "      <td>2</td>\n",
              "      <td>34</td>\n",
              "      <td>0</td>\n",
              "      <td>0</td>\n",
              "      <td>0</td>\n",
              "      <td>0</td>\n",
              "      <td>0</td>\n",
              "      <td>0</td>\n",
              "      <td>29239</td>\n",
              "      <td>14027</td>\n",
              "      <td>13559</td>\n",
              "      <td>14331</td>\n",
              "      <td>14948</td>\n",
              "      <td>15549</td>\n",
              "      <td>1518</td>\n",
              "      <td>1500</td>\n",
              "      <td>1000</td>\n",
              "      <td>1000</td>\n",
              "      <td>1000</td>\n",
              "      <td>5000</td>\n",
              "      <td>0</td>\n",
              "    </tr>\n",
              "    <tr>\n",
              "      <th>3</th>\n",
              "      <td>4</td>\n",
              "      <td>50000</td>\n",
              "      <td>2</td>\n",
              "      <td>2</td>\n",
              "      <td>1</td>\n",
              "      <td>37</td>\n",
              "      <td>0</td>\n",
              "      <td>0</td>\n",
              "      <td>0</td>\n",
              "      <td>0</td>\n",
              "      <td>0</td>\n",
              "      <td>0</td>\n",
              "      <td>46990</td>\n",
              "      <td>48233</td>\n",
              "      <td>49291</td>\n",
              "      <td>28314</td>\n",
              "      <td>28959</td>\n",
              "      <td>29547</td>\n",
              "      <td>2000</td>\n",
              "      <td>2019</td>\n",
              "      <td>1200</td>\n",
              "      <td>1100</td>\n",
              "      <td>1069</td>\n",
              "      <td>1000</td>\n",
              "      <td>0</td>\n",
              "    </tr>\n",
              "    <tr>\n",
              "      <th>4</th>\n",
              "      <td>5</td>\n",
              "      <td>50000</td>\n",
              "      <td>1</td>\n",
              "      <td>2</td>\n",
              "      <td>1</td>\n",
              "      <td>57</td>\n",
              "      <td>-1</td>\n",
              "      <td>0</td>\n",
              "      <td>-1</td>\n",
              "      <td>0</td>\n",
              "      <td>0</td>\n",
              "      <td>0</td>\n",
              "      <td>8617</td>\n",
              "      <td>5670</td>\n",
              "      <td>35835</td>\n",
              "      <td>20940</td>\n",
              "      <td>19146</td>\n",
              "      <td>19131</td>\n",
              "      <td>2000</td>\n",
              "      <td>36681</td>\n",
              "      <td>10000</td>\n",
              "      <td>9000</td>\n",
              "      <td>689</td>\n",
              "      <td>679</td>\n",
              "      <td>0</td>\n",
              "    </tr>\n",
              "  </tbody>\n",
              "</table>\n",
              "</div>"
            ],
            "text/plain": [
              "   ID  LIMIT_BAL  SEX  EDUCATION  ...  PAY_AMT4  PAY_AMT5  PAY_AMT6  default payment\n",
              "0   1      20000    2          2  ...         0         0         0                1\n",
              "1   2     120000    2          2  ...      1000         0      2000                1\n",
              "2   3      90000    2          2  ...      1000      1000      5000                0\n",
              "3   4      50000    2          2  ...      1100      1069      1000                0\n",
              "4   5      50000    1          2  ...      9000       689       679                0\n",
              "\n",
              "[5 rows x 25 columns]"
            ]
          },
          "metadata": {},
          "execution_count": 3
        }
      ]
    },
    {
      "cell_type": "code",
      "source": [
        "df.shape"
      ],
      "metadata": {
        "colab": {
          "base_uri": "https://localhost:8080/"
        },
        "id": "kn5t5TjyddZm",
        "outputId": "6591c3cb-18a9-48a5-c83a-6ed065155a36"
      },
      "execution_count": null,
      "outputs": [
        {
          "output_type": "execute_result",
          "data": {
            "text/plain": [
              "(30000, 25)"
            ]
          },
          "metadata": {},
          "execution_count": 4
        }
      ]
    },
    {
      "cell_type": "code",
      "source": [
        "#checking for missing values\n",
        "df.isnull().mean()"
      ],
      "metadata": {
        "colab": {
          "base_uri": "https://localhost:8080/"
        },
        "id": "UUJtnBSFdfkz",
        "outputId": "b9b19711-6aab-43d4-e75f-bc94644ece6d"
      },
      "execution_count": null,
      "outputs": [
        {
          "output_type": "execute_result",
          "data": {
            "text/plain": [
              "ID                 0.0\n",
              "LIMIT_BAL          0.0\n",
              "SEX                0.0\n",
              "EDUCATION          0.0\n",
              "MARRIAGE           0.0\n",
              "AGE                0.0\n",
              "PAY_0              0.0\n",
              "PAY_2              0.0\n",
              "PAY_3              0.0\n",
              "PAY_4              0.0\n",
              "PAY_5              0.0\n",
              "PAY_6              0.0\n",
              "BILL_AMT1          0.0\n",
              "BILL_AMT2          0.0\n",
              "BILL_AMT3          0.0\n",
              "BILL_AMT4          0.0\n",
              "BILL_AMT5          0.0\n",
              "BILL_AMT6          0.0\n",
              "PAY_AMT1           0.0\n",
              "PAY_AMT2           0.0\n",
              "PAY_AMT3           0.0\n",
              "PAY_AMT4           0.0\n",
              "PAY_AMT5           0.0\n",
              "PAY_AMT6           0.0\n",
              "default payment    0.0\n",
              "dtype: float64"
            ]
          },
          "metadata": {},
          "execution_count": 5
        }
      ]
    },
    {
      "cell_type": "markdown",
      "source": [
        "### Observation: \n",
        "There are no missing values. Hence we proceed with the first input feature"
      ],
      "metadata": {
        "id": "vTrqeDbAWXOI"
      }
    },
    {
      "cell_type": "code",
      "source": [
        "sns.histplot(df,x = 'LIMIT_BAL',hue = 'default payment', bins = 15)"
      ],
      "metadata": {
        "colab": {
          "base_uri": "https://localhost:8080/",
          "height": 297
        },
        "id": "1M94oiv5djCW",
        "outputId": "1f7f12aa-d255-4fd4-91b1-3aa3456853f8"
      },
      "execution_count": null,
      "outputs": [
        {
          "output_type": "execute_result",
          "data": {
            "text/plain": [
              "<matplotlib.axes._subplots.AxesSubplot at 0x7fc6d0b97dd0>"
            ]
          },
          "metadata": {},
          "execution_count": 6
        },
        {
          "output_type": "display_data",
          "data": {
            "image/png": "[encoded data removed]",
            "text/plain": [
              "<Figure size 432x288 with 1 Axes>"
            ]
          },
          "metadata": {
            "needs_background": "light"
          }
        }
      ]
    },
    {
      "cell_type": "code",
      "source": [
        "sns.boxplot(data = df,x= 'LIMIT_BAL')"
      ],
      "metadata": {
        "colab": {
          "base_uri": "https://localhost:8080/",
          "height": 297
        },
        "id": "6LqD0EYcfgo4",
        "outputId": "07723224-a3d6-4363-9578-dd71a467211e"
      },
      "execution_count": null,
      "outputs": [
        {
          "output_type": "execute_result",
          "data": {
            "text/plain": [
              "<matplotlib.axes._subplots.AxesSubplot at 0x7fc6d01caf10>"
            ]
          },
          "metadata": {},
          "execution_count": 7
        },
        {
          "output_type": "display_data",
          "data": {
            "image/png": "[encoded data removed]",
            "text/plain": [
              "<Figure size 432x288 with 1 Axes>"
            ]
          },
          "metadata": {
            "needs_background": "light"
          }
        }
      ]
    },
    {
      "cell_type": "markdown",
      "source": [
        "### Observation:\n",
        "For the feature 'LIMIT_BAL' we observe that it is positively skewed. Hence we perform Logarithemic transformtion "
      ],
      "metadata": {
        "id": "_PU3NUyQWmzL"
      }
    },
    {
      "cell_type": "code",
      "source": [
        "df['LIMIT_BAL'] = np.log(df['LIMIT_BAL'])\n",
        "sns.boxplot(data = df,x= 'LIMIT_BAL')"
      ],
      "metadata": {
        "colab": {
          "base_uri": "https://localhost:8080/",
          "height": 297
        },
        "id": "fI81t7C-XDSJ",
        "outputId": "5134807d-e622-461c-b177-1dc83e48e5ce"
      },
      "execution_count": null,
      "outputs": [
        {
          "output_type": "execute_result",
          "data": {
            "text/plain": [
              "<matplotlib.axes._subplots.AxesSubplot at 0x7fc6c5a85290>"
            ]
          },
          "metadata": {},
          "execution_count": 30
        },
        {
          "output_type": "display_data",
          "data": {
            "image/png": "[encoded data removed]",
            "text/plain": [
              "<Figure size 432x288 with 1 Axes>"
            ]
          },
          "metadata": {
            "needs_background": "light"
          }
        }
      ]
    },
    {
      "cell_type": "markdown",
      "source": [
        "We observe that after transformation 'LIMIT_BAL' does not have any outlier"
      ],
      "metadata": {
        "id": "rfdnNFfpXTwt"
      }
    },
    {
      "cell_type": "markdown",
      "source": [
        "## Visualization:\n",
        "We have plotted the categorical and discrete variables to understand which labels are actually contributing in predicting the target variable"
      ],
      "metadata": {
        "id": "nZ63DYXMXrUo"
      }
    },
    {
      "cell_type": "code",
      "source": [
        "sns.countplot(data = df,x ='SEX',hue = 'default payment')"
      ],
      "metadata": {
        "colab": {
          "base_uri": "https://localhost:8080/",
          "height": 296
        },
        "id": "EJhsTwFhdtPb",
        "outputId": "78951d0b-2731-4a36-e5ac-82d9dd0492fb"
      },
      "execution_count": null,
      "outputs": [
        {
          "output_type": "execute_result",
          "data": {
            "text/plain": [
              "<matplotlib.axes._subplots.AxesSubplot at 0x7fc6ce94bad0>"
            ]
          },
          "metadata": {},
          "execution_count": 8
        },
        {
          "output_type": "display_data",
          "data": {
            "image/png": "[encoded data removed]",
            "text/plain": [
              "<Figure size 432x288 with 1 Axes>"
            ]
          },
          "metadata": {
            "needs_background": "light"
          }
        }
      ]
    },
    {
      "cell_type": "code",
      "source": [
        "sns.countplot(data = df,x ='EDUCATION',hue = 'default payment')"
      ],
      "metadata": {
        "colab": {
          "base_uri": "https://localhost:8080/",
          "height": 296
        },
        "id": "9tJubGiCeri3",
        "outputId": "d488ef04-3d08-4729-ce50-2b73c15ab459"
      },
      "execution_count": null,
      "outputs": [
        {
          "output_type": "execute_result",
          "data": {
            "text/plain": [
              "<matplotlib.axes._subplots.AxesSubplot at 0x7fc6ce8c2c90>"
            ]
          },
          "metadata": {},
          "execution_count": 9
        },
        {
          "output_type": "display_data",
          "data": {
            "image/png": "[encoded data removed]",
            "text/plain": [
              "<Figure size 432x288 with 1 Axes>"
            ]
          },
          "metadata": {
            "needs_background": "light"
          }
        }
      ]
    },
    {
      "cell_type": "code",
      "source": [
        "sns.countplot(data = df,x ='MARRIAGE',hue = 'default payment')"
      ],
      "metadata": {
        "colab": {
          "base_uri": "https://localhost:8080/",
          "height": 296
        },
        "id": "4J9cygPqgUP2",
        "outputId": "dcbba460-462d-42c6-dc28-732b2cee5d0e"
      },
      "execution_count": null,
      "outputs": [
        {
          "output_type": "execute_result",
          "data": {
            "text/plain": [
              "<matplotlib.axes._subplots.AxesSubplot at 0x7fc6ce8692d0>"
            ]
          },
          "metadata": {},
          "execution_count": 10
        },
        {
          "output_type": "display_data",
          "data": {
            "image/png": "[encoded data removed]",
            "text/plain": [
              "<Figure size 432x288 with 1 Axes>"
            ]
          },
          "metadata": {
            "needs_background": "light"
          }
        }
      ]
    },
    {
      "cell_type": "code",
      "source": [
        "d = df[df['default payment'].isin([0, 1])]\n",
        "g = sns.FacetGrid(df, col=\"default payment\")\n",
        "g.map(sns.histplot, \"AGE\")"
      ],
      "metadata": {
        "colab": {
          "base_uri": "https://localhost:8080/",
          "height": 242
        },
        "id": "fIoOyKwNgeqb",
        "outputId": "1c294f39-661d-4278-87c8-e26a06f84bfb"
      },
      "execution_count": null,
      "outputs": [
        {
          "output_type": "execute_result",
          "data": {
            "text/plain": [
              "<seaborn.axisgrid.FacetGrid at 0x7fc6ce7de950>"
            ]
          },
          "metadata": {},
          "execution_count": 11
        },
        {
          "output_type": "display_data",
          "data": {
            "image/png": "[encoded data removed]",
            "text/plain": [
              "<Figure size 432x216 with 2 Axes>"
            ]
          },
          "metadata": {
            "needs_background": "light"
          }
        }
      ]
    },
    {
      "cell_type": "markdown",
      "source": [
        "### Observation \n",
        "Here are the takeaways from the above visualizations- \n",
        "1. All the labels of 'SEX' feature need to be considered\n",
        "2. For 'EDUCATION' the labels '1','2','3' are more prominent, hence we can create our model based on these three labels only \n",
        "3. For 'MARRIAGE' the labels '1','2' HAVE more prominent responses, hence we can create our model based on these two labels only \n"
      ],
      "metadata": {
        "id": "ZSI_hljVYKl_"
      }
    },
    {
      "cell_type": "markdown",
      "source": [
        "'PAY_0','PAY_2','PAY_3','PAY_4','PAY_5','PAY_6' are categorical variables that indicate the status of payment of the last 6 transactions. \n",
        "\n",
        "Here we first understand their association among each other and then with the target variable. We have used Chi-Square test of independence. "
      ],
      "metadata": {
        "id": "ZZGpaVpJZv51"
      }
    },
    {
      "cell_type": "code",
      "source": [
        "p_val = []\n",
        "col = ['PAY_0','PAY_2','PAY_3','PAY_4','PAY_5','PAY_6']\n",
        "for c in col:\n",
        "  t = pd.crosstab(df[c],df['default payment'])\n",
        "  stat, p, dof, expected = chi2_contingency(t)\n",
        "  p_val.append(p)\n",
        "print(p_val)\n"
      ],
      "metadata": {
        "colab": {
          "base_uri": "https://localhost:8080/"
        },
        "id": "ccDQS2PTgrUG",
        "outputId": "ac9763e6-87ff-4bc7-ebb7-5196077ec078"
      },
      "execution_count": null,
      "outputs": [
        {
          "output_type": "stream",
          "name": "stdout",
          "text": [
            "[0.0, 0.0, 0.0, 0.0, 0.0, 0.0]\n"
          ]
        }
      ]
    },
    {
      "cell_type": "code",
      "source": [
        "p_val = []\n",
        "col = ['PAY_0','PAY_2','PAY_3','PAY_4','PAY_5','PAY_6']\n",
        "for i in col:\n",
        "  for j in col:\n",
        "    t = pd.crosstab(df[i],df[j])\n",
        "    stat, p1, dof, expected = chi2_contingency(t)\n",
        "    p_val.append(p1)\n",
        "print(p_val)"
      ],
      "metadata": {
        "colab": {
          "base_uri": "https://localhost:8080/"
        },
        "id": "-PhGs50Jnvqm",
        "outputId": "af61aa97-1cf9-4a3b-a5fc-b0fa51e65290"
      },
      "execution_count": null,
      "outputs": [
        {
          "output_type": "stream",
          "name": "stdout",
          "text": [
            "[0.0, 0.0, 0.0, 0.0, 0.0, 0.0, 0.0, 0.0, 0.0, 0.0, 0.0, 0.0, 0.0, 0.0, 0.0, 0.0, 0.0, 0.0, 0.0, 0.0, 0.0, 0.0, 0.0, 0.0, 0.0, 0.0, 0.0, 0.0, 0.0, 0.0, 0.0, 0.0, 0.0, 0.0, 0.0, 0.0]\n"
          ]
        }
      ]
    },
    {
      "cell_type": "markdown",
      "source": [
        "### Observation:\n",
        "We have observed the following-\n",
        "1. the 6 features are not independent \n",
        "2. they are not independent with the target variable. \n",
        "Hence we can keep only one of the variables for model creation (since all are dependent). \n",
        "\n",
        "Note that : level of significance considered here is  0.05"
      ],
      "metadata": {
        "id": "2CfqI5RkbGHV"
      }
    },
    {
      "cell_type": "markdown",
      "source": [
        "'BILL_AMT1','BILL_AMT2','BILL_AMT3','BILL_AMT3','BILL_AMT4','BILL_AMT5','BILL_AMT6' represent the last 6 billing amount through credit card payment. \n",
        "\n",
        "To understand their association we plot their correlation"
      ],
      "metadata": {
        "id": "O9I-m9MFdAHx"
      }
    },
    {
      "cell_type": "code",
      "source": [
        "#Correlation\n",
        "d = ['BILL_AMT1','BILL_AMT2','BILL_AMT3','BILL_AMT3','BILL_AMT4','BILL_AMT5','BILL_AMT6']\n",
        "corr1 = df[d].corr()\n",
        "ax = sns.heatmap(\n",
        "    corr1, \n",
        "    vmin=-1, vmax=1, center=0,\n",
        "    cmap=sns.diverging_palette(20, 220, n=200),\n",
        "    square=True\n",
        ")\n",
        "ax.set_xticklabels(\n",
        "    ax.get_xticklabels(),\n",
        "    rotation=45,\n",
        "    horizontalalignment='right'\n",
        ");"
      ],
      "metadata": {
        "colab": {
          "base_uri": "https://localhost:8080/",
          "height": 305
        },
        "id": "RR52LCd2oQNX",
        "outputId": "29cd52c0-7518-4c15-f66f-436dad442afd"
      },
      "execution_count": null,
      "outputs": [
        {
          "output_type": "display_data",
          "data": {
            "image/png": "[encoded data removed]",
            "text/plain": [
              "<Figure size 432x288 with 2 Axes>"
            ]
          },
          "metadata": {
            "needs_background": "light"
          }
        }
      ]
    },
    {
      "cell_type": "markdown",
      "source": [
        "### Observation:\n",
        "We observe that 6 variables are highly correlated. Hence we perform PCA to reduce the number of features "
      ],
      "metadata": {
        "id": "CEU1UlDxdcBH"
      }
    },
    {
      "cell_type": "code",
      "source": [
        "df[['BILL_AMT1','BILL_AMT2','BILL_AMT3','BILL_AMT4','BILL_AMT5','BILL_AMT6']] = StandardScaler().fit_transform(df[['BILL_AMT1','BILL_AMT2',\n",
        "                                                                                                                   'BILL_AMT3','BILL_AMT4',\n",
        "                                                                                                                   'BILL_AMT5','BILL_AMT6']])"
      ],
      "metadata": {
        "id": "4N2EBYOpHMPf"
      },
      "execution_count": null,
      "outputs": []
    },
    {
      "cell_type": "code",
      "source": [
        "#performing PCA after standarizing the variables. PCA explains 95% of the original variance\n",
        "pca = PCA(0.95)\n",
        "principalComponents = pca.fit_transform(df[['BILL_AMT1','BILL_AMT2','BILL_AMT3','BILL_AMT4','BILL_AMT5','BILL_AMT6']])\n",
        "explained_variance = pca.explained_variance_ratio_\n",
        "print(explained_variance)"
      ],
      "metadata": {
        "colab": {
          "base_uri": "https://localhost:8080/"
        },
        "id": "o3BGAB5yIDVN",
        "outputId": "1dbd28e5-5337-4623-d091-c21680224888"
      },
      "execution_count": null,
      "outputs": [
        {
          "output_type": "stream",
          "name": "stdout",
          "text": [
            "[0.90555253 0.0509867 ]\n"
          ]
        }
      ]
    },
    {
      "cell_type": "code",
      "source": [
        "#Dropping the variables as discused above\n",
        "#'PAY_2','PAY_3','PAY_4','PAY_5','PAY_6 - since all are correlated\n",
        "#'BILL_AMT1','BILL_AMT2','BILL_AMT3','BILL_AMT4','BILL_AMT5','BILL_AMT6'- since we have performed PCA\n",
        "df.drop(['PAY_2','PAY_3','PAY_4','PAY_5','PAY_6','BILL_AMT1','BILL_AMT2','BILL_AMT3','BILL_AMT4','BILL_AMT5','BILL_AMT6'], axis = 1,inplace = True)"
      ],
      "metadata": {
        "id": "nNqNUrV0I4p-"
      },
      "execution_count": null,
      "outputs": []
    },
    {
      "cell_type": "code",
      "source": [
        "d1 = pd.DataFrame(principalComponents)\n",
        "d1.head()"
      ],
      "metadata": {
        "colab": {
          "base_uri": "https://localhost:8080/",
          "height": 206
        },
        "id": "D8x0ZnGFKMGh",
        "outputId": "179fd822-746c-4a62-99a1-65478d4c86e1"
      },
      "execution_count": null,
      "outputs": [
        {
          "output_type": "execute_result",
          "data": {
            "text/html": [
              "<div>\n",
              "<style scoped>\n",
              "    .dataframe tbody tr th:only-of-type {\n",
              "        vertical-align: middle;\n",
              "    }\n",
              "\n",
              "    .dataframe tbody tr th {\n",
              "        vertical-align: top;\n",
              "    }\n",
              "\n",
              "    .dataframe thead th {\n",
              "        text-align: right;\n",
              "    }\n",
              "</style>\n",
              "<table border=\"1\" class=\"dataframe\">\n",
              "  <thead>\n",
              "    <tr style=\"text-align: right;\">\n",
              "      <th></th>\n",
              "      <th>0</th>\n",
              "      <th>1</th>\n",
              "    </tr>\n",
              "  </thead>\n",
              "  <tbody>\n",
              "    <tr>\n",
              "      <th>0</th>\n",
              "      <td>-1.611148</td>\n",
              "      <td>0.012479</td>\n",
              "    </tr>\n",
              "    <tr>\n",
              "      <th>1</th>\n",
              "      <td>-1.547595</td>\n",
              "      <td>-0.062344</td>\n",
              "    </tr>\n",
              "    <tr>\n",
              "      <th>2</th>\n",
              "      <td>-1.035874</td>\n",
              "      <td>0.011256</td>\n",
              "    </tr>\n",
              "    <tr>\n",
              "      <th>3</th>\n",
              "      <td>-0.250712</td>\n",
              "      <td>0.174374</td>\n",
              "    </tr>\n",
              "    <tr>\n",
              "      <th>4</th>\n",
              "      <td>-0.968951</td>\n",
              "      <td>-0.213032</td>\n",
              "    </tr>\n",
              "  </tbody>\n",
              "</table>\n",
              "</div>"
            ],
            "text/plain": [
              "          0         1\n",
              "0 -1.611148  0.012479\n",
              "1 -1.547595 -0.062344\n",
              "2 -1.035874  0.011256\n",
              "3 -0.250712  0.174374\n",
              "4 -0.968951 -0.213032"
            ]
          },
          "metadata": {},
          "execution_count": 18
        }
      ]
    },
    {
      "cell_type": "code",
      "source": [
        "#merging the principal components with the dataset\n",
        "data = pd.concat([df,d1], axis =1)\n",
        "data.head()"
      ],
      "metadata": {
        "colab": {
          "base_uri": "https://localhost:8080/",
          "height": 244
        },
        "id": "VfG932xFJQmJ",
        "outputId": "11964318-87ce-463b-9181-c31dcbf88e36"
      },
      "execution_count": null,
      "outputs": [
        {
          "output_type": "execute_result",
          "data": {
            "text/html": [
              "<div>\n",
              "<style scoped>\n",
              "    .dataframe tbody tr th:only-of-type {\n",
              "        vertical-align: middle;\n",
              "    }\n",
              "\n",
              "    .dataframe tbody tr th {\n",
              "        vertical-align: top;\n",
              "    }\n",
              "\n",
              "    .dataframe thead th {\n",
              "        text-align: right;\n",
              "    }\n",
              "</style>\n",
              "<table border=\"1\" class=\"dataframe\">\n",
              "  <thead>\n",
              "    <tr style=\"text-align: right;\">\n",
              "      <th></th>\n",
              "      <th>ID</th>\n",
              "      <th>LIMIT_BAL</th>\n",
              "      <th>SEX</th>\n",
              "      <th>EDUCATION</th>\n",
              "      <th>MARRIAGE</th>\n",
              "      <th>AGE</th>\n",
              "      <th>PAY_0</th>\n",
              "      <th>PAY_AMT1</th>\n",
              "      <th>PAY_AMT2</th>\n",
              "      <th>PAY_AMT3</th>\n",
              "      <th>PAY_AMT4</th>\n",
              "      <th>PAY_AMT5</th>\n",
              "      <th>PAY_AMT6</th>\n",
              "      <th>default payment</th>\n",
              "      <th>0</th>\n",
              "      <th>1</th>\n",
              "    </tr>\n",
              "  </thead>\n",
              "  <tbody>\n",
              "    <tr>\n",
              "      <th>0</th>\n",
              "      <td>1</td>\n",
              "      <td>20000</td>\n",
              "      <td>2</td>\n",
              "      <td>2</td>\n",
              "      <td>1</td>\n",
              "      <td>24</td>\n",
              "      <td>2</td>\n",
              "      <td>0</td>\n",
              "      <td>689</td>\n",
              "      <td>0</td>\n",
              "      <td>0</td>\n",
              "      <td>0</td>\n",
              "      <td>0</td>\n",
              "      <td>1</td>\n",
              "      <td>-1.611148</td>\n",
              "      <td>0.012479</td>\n",
              "    </tr>\n",
              "    <tr>\n",
              "      <th>1</th>\n",
              "      <td>2</td>\n",
              "      <td>120000</td>\n",
              "      <td>2</td>\n",
              "      <td>2</td>\n",
              "      <td>2</td>\n",
              "      <td>26</td>\n",
              "      <td>-1</td>\n",
              "      <td>0</td>\n",
              "      <td>1000</td>\n",
              "      <td>1000</td>\n",
              "      <td>1000</td>\n",
              "      <td>0</td>\n",
              "      <td>2000</td>\n",
              "      <td>1</td>\n",
              "      <td>-1.547595</td>\n",
              "      <td>-0.062344</td>\n",
              "    </tr>\n",
              "    <tr>\n",
              "      <th>2</th>\n",
              "      <td>3</td>\n",
              "      <td>90000</td>\n",
              "      <td>2</td>\n",
              "      <td>2</td>\n",
              "      <td>2</td>\n",
              "      <td>34</td>\n",
              "      <td>0</td>\n",
              "      <td>1518</td>\n",
              "      <td>1500</td>\n",
              "      <td>1000</td>\n",
              "      <td>1000</td>\n",
              "      <td>1000</td>\n",
              "      <td>5000</td>\n",
              "      <td>0</td>\n",
              "      <td>-1.035874</td>\n",
              "      <td>0.011256</td>\n",
              "    </tr>\n",
              "    <tr>\n",
              "      <th>3</th>\n",
              "      <td>4</td>\n",
              "      <td>50000</td>\n",
              "      <td>2</td>\n",
              "      <td>2</td>\n",
              "      <td>1</td>\n",
              "      <td>37</td>\n",
              "      <td>0</td>\n",
              "      <td>2000</td>\n",
              "      <td>2019</td>\n",
              "      <td>1200</td>\n",
              "      <td>1100</td>\n",
              "      <td>1069</td>\n",
              "      <td>1000</td>\n",
              "      <td>0</td>\n",
              "      <td>-0.250712</td>\n",
              "      <td>0.174374</td>\n",
              "    </tr>\n",
              "    <tr>\n",
              "      <th>4</th>\n",
              "      <td>5</td>\n",
              "      <td>50000</td>\n",
              "      <td>1</td>\n",
              "      <td>2</td>\n",
              "      <td>1</td>\n",
              "      <td>57</td>\n",
              "      <td>-1</td>\n",
              "      <td>2000</td>\n",
              "      <td>36681</td>\n",
              "      <td>10000</td>\n",
              "      <td>9000</td>\n",
              "      <td>689</td>\n",
              "      <td>679</td>\n",
              "      <td>0</td>\n",
              "      <td>-0.968951</td>\n",
              "      <td>-0.213032</td>\n",
              "    </tr>\n",
              "  </tbody>\n",
              "</table>\n",
              "</div>"
            ],
            "text/plain": [
              "   ID  LIMIT_BAL  SEX  EDUCATION  ...  PAY_AMT6  default payment         0         1\n",
              "0   1      20000    2          2  ...         0                1 -1.611148  0.012479\n",
              "1   2     120000    2          2  ...      2000                1 -1.547595 -0.062344\n",
              "2   3      90000    2          2  ...      5000                0 -1.035874  0.011256\n",
              "3   4      50000    2          2  ...      1000                0 -0.250712  0.174374\n",
              "4   5      50000    1          2  ...       679                0 -0.968951 -0.213032\n",
              "\n",
              "[5 rows x 16 columns]"
            ]
          },
          "metadata": {},
          "execution_count": 19
        }
      ]
    },
    {
      "cell_type": "code",
      "source": [
        "data = data.rename(columns = {\"default payment\":\"default_payment\"})"
      ],
      "metadata": {
        "id": "P3T4ktHoobuw"
      },
      "execution_count": null,
      "outputs": []
    },
    {
      "cell_type": "markdown",
      "source": [
        "'PAY_AMT1','PAY_AMT2', 'PAY_AMT3', 'PAY_AMT4', 'PAY_AMT5','PAY_AMT6' - they are the payments cleared with respect to the last 6 bills . We observe that:\n",
        "\n",
        "*   these 6 features are not correlated.\n",
        "*   Hence we perform MANOVA to understand their relation with the target variable.\n",
        "\n"
      ],
      "metadata": {
        "id": "hCduf4FSesQK"
      }
    },
    {
      "cell_type": "code",
      "source": [
        "#Correlation\n",
        "d1 = ['PAY_AMT1','PAY_AMT2','PAY_AMT3','PAY_AMT4','PAY_AMT5','PAY_AMT6']\n",
        "corr2 = df[d1].corr()\n",
        "ax = sns.heatmap(\n",
        "    corr2, \n",
        "    vmin=-1, vmax=1, center=0,\n",
        "    cmap=sns.diverging_palette(20, 220, n=200),\n",
        "    square=True\n",
        ")\n",
        "ax.set_xticklabels(\n",
        "    ax.get_xticklabels(),\n",
        "    rotation=45,\n",
        "    horizontalalignment='right'\n",
        ");"
      ],
      "metadata": {
        "colab": {
          "base_uri": "https://localhost:8080/",
          "height": 303
        },
        "id": "eGjUZPpm7tmK",
        "outputId": "5cd11fb2-3dfc-4375-9c64-9e3f5989719e"
      },
      "execution_count": null,
      "outputs": [
        {
          "output_type": "display_data",
          "data": {
            "image/png": "[encoded data removed]",
            "text/plain": [
              "<Figure size 432x288 with 2 Axes>"
            ]
          },
          "metadata": {
            "needs_background": "light"
          }
        }
      ]
    },
    {
      "cell_type": "code",
      "source": [
        "#Standardizing the features\n",
        "data[['PAY_AMT1','PAY_AMT2','PAY_AMT3','PAY_AMT4','PAY_AMT5','PAY_AMT6']] = StandardScaler().fit_transform(data[['PAY_AMT1','PAY_AMT2',\n",
        "                                                                                                                   'PAY_AMT3','PAY_AMT4',\n",
        "                                                                                                                   'PAY_AMT5','PAY_AMT6']])"
      ],
      "metadata": {
        "id": "eysQ2YIH8QQ2"
      },
      "execution_count": null,
      "outputs": []
    },
    {
      "cell_type": "code",
      "source": [
        "manov = MANOVA.from_formula('PAY_AMT1+ PAY_AMT2+ PAY_AMT3+ PAY_AMT4+ PAY_AMT5+ PAY_AMT6 ~ default_payment', data=data)"
      ],
      "metadata": {
        "id": "XA2g7cPM9CY_"
      },
      "execution_count": null,
      "outputs": []
    },
    {
      "cell_type": "code",
      "source": [
        "print(manov.mv_test())"
      ],
      "metadata": {
        "colab": {
          "base_uri": "https://localhost:8080/"
        },
        "id": "GCUg04Dh9P4U",
        "outputId": "ad1c624a-7b46-466c-9772-91768d388574"
      },
      "execution_count": null,
      "outputs": [
        {
          "output_type": "stream",
          "name": "stdout",
          "text": [
            "                   Multivariate linear model\n",
            "===============================================================\n",
            "                                                               \n",
            "---------------------------------------------------------------\n",
            "       Intercept        Value  Num DF   Den DF   F Value Pr > F\n",
            "---------------------------------------------------------------\n",
            "          Wilks' lambda 0.9976 6.0000 29993.0000 12.1550 0.0000\n",
            "         Pillai's trace 0.0024 6.0000 29993.0000 12.1550 0.0000\n",
            " Hotelling-Lawley trace 0.0024 6.0000 29993.0000 12.1550 0.0000\n",
            "    Roy's greatest root 0.0024 6.0000 29993.0000 12.1550 0.0000\n",
            "---------------------------------------------------------------\n",
            "                                                               \n",
            "---------------------------------------------------------------\n",
            "    default_payment     Value  Num DF   Den DF   F Value Pr > F\n",
            "---------------------------------------------------------------\n",
            "          Wilks' lambda 0.9891 6.0000 29993.0000 54.9501 0.0000\n",
            "         Pillai's trace 0.0109 6.0000 29993.0000 54.9501 0.0000\n",
            " Hotelling-Lawley trace 0.0110 6.0000 29993.0000 54.9501 0.0000\n",
            "    Roy's greatest root 0.0110 6.0000 29993.0000 54.9501 0.0000\n",
            "===============================================================\n",
            "\n"
          ]
        }
      ]
    },
    {
      "cell_type": "markdown",
      "source": [
        "### Observation:\n",
        "We observe that the 6 features containing the payment information are not independent with the target variable, hence they are to be kept at first stage of model building"
      ],
      "metadata": {
        "id": "p_84eCZkjLdL"
      }
    },
    {
      "cell_type": "markdown",
      "source": [
        "# Conclusion:\n",
        "\n",
        "This is the end of our Exploratory Data Analysis. Thus we take into account the observations discussed above before we move into model building stage. \n",
        "\n",
        "## Thank You"
      ],
      "metadata": {
        "id": "iJZ-ZmxDjsMg"
      }
    }
  ]
}